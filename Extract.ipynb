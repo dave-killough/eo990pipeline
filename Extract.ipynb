{
  "nbformat": 4,
  "nbformat_minor": 0,
  "metadata": {
    "colab": {
      "provenance": [],
      "authorship_tag": "ABX9TyOG5JHOc54fqh4XnFyEE1Go",
      "include_colab_link": true
    },
    "kernelspec": {
      "name": "python3",
      "display_name": "Python 3"
    },
    "language_info": {
      "name": "python"
    }
  },
  "cells": [
    {
      "cell_type": "markdown",
      "metadata": {
        "id": "view-in-github",
        "colab_type": "text"
      },
      "source": [
        "<a href=\"https://colab.research.google.com/github/dave-killough/eo990pipeline/blob/main/Extract.ipynb\" target=\"_parent\"><img src=\"https://colab.research.google.com/assets/colab-badge.svg\" alt=\"Open In Colab\"/></a>"
      ]
    },
    {
      "cell_type": "markdown",
      "source": [
        "*test*"
      ],
      "metadata": {
        "id": "NcigJeIpz15A"
      }
    },
    {
      "cell_type": "code",
      "execution_count": 1,
      "metadata": {
        "colab": {
          "base_uri": "https://localhost:8080/"
        },
        "id": "Ce45K0GizsNq",
        "outputId": "4e4478fb-a817-495c-b0d5-58d5033d0b75"
      },
      "outputs": [
        {
          "output_type": "stream",
          "name": "stdout",
          "text": [
            "Collecting datamachine\n",
            "  Downloading datamachine-0.1.1-py3-none-any.whl (7.5 kB)\n",
            "Installing collected packages: datamachine\n",
            "Successfully installed datamachine-0.1.1\n"
          ]
        }
      ],
      "source": [
        "%pip install datamachine"
      ]
    },
    {
      "cell_type": "code",
      "source": [
        "import datamachine as dm"
      ],
      "metadata": {
        "id": "2tWxwl3jz5wc"
      },
      "execution_count": 2,
      "outputs": []
    },
    {
      "cell_type": "code",
      "source": [],
      "metadata": {
        "id": "XLhUdobfz_Pe"
      },
      "execution_count": null,
      "outputs": []
    }
  ]
}