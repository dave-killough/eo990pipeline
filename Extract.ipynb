{
 "cells": [
  {
   "cell_type": "markdown",
   "metadata": {
    "application/vnd.databricks.v1+cell": {
     "cellMetadata": {},
     "inputWidgets": {},
     "nuid": "80937d06-01fb-4d11-8397-723ac9f0cc40",
     "showTitle": false,
     "title": ""
    },
    "colab_type": "text",
    "id": "view-in-github"
   },
   "source": [
    "<a href=\"https://colab.research.google.com/github/dave-killough/eo990pipeline/blob/main/Extract.ipynb\" target=\"_parent\"><img src=\"https://colab.research.google.com/assets/colab-badge.svg\" alt=\"Open In Colab\"/></a>"
   ]
  },
  {
   "cell_type": "markdown",
   "metadata": {
    "application/vnd.databricks.v1+cell": {
     "cellMetadata": {},
     "inputWidgets": {},
     "nuid": "32afde82-cf94-4d04-8674-461455bd9e07",
     "showTitle": false,
     "title": ""
    },
    "id": "NcigJeIpz15A"
   },
   "source": [
    "*test*"
   ]
  },
  {
   "cell_type": "code",
   "execution_count": 0,
   "metadata": {
    "application/vnd.databricks.v1+cell": {
     "cellMetadata": {
      "byteLimit": 2048000,
      "rowLimit": 10000
     },
     "inputWidgets": {},
     "nuid": "2bde47c4-fd1c-4957-b5d9-4772f5f083f4",
     "showTitle": false,
     "title": ""
    },
    "colab": {
     "base_uri": "https://localhost:8080/"
    },
    "id": "Ce45K0GizsNq",
    "outputId": "4e4478fb-a817-495c-b0d5-58d5033d0b75"
   },
   "outputs": [],
   "source": [
    "%pip install datamachine"
   ]
  },
  {
   "cell_type": "code",
   "execution_count": 0,
   "metadata": {
    "application/vnd.databricks.v1+cell": {
     "cellMetadata": {
      "byteLimit": 2048000,
      "rowLimit": 10000
     },
     "inputWidgets": {},
     "nuid": "bc466e75-cca0-4b2f-a62c-4b089c59b12d",
     "showTitle": false,
     "title": ""
    },
    "id": "2tWxwl3jz5wc"
   },
   "outputs": [],
   "source": [
    "import datamachine as dm"
   ]
  },
  {
   "cell_type": "code",
   "execution_count": 0,
   "metadata": {
    "application/vnd.databricks.v1+cell": {
     "cellMetadata": {
      "byteLimit": 2048000,
      "rowLimit": 10000
     },
     "inputWidgets": {},
     "nuid": "f07d3f17-653a-47c6-b696-48f4998e4995",
     "showTitle": false,
     "title": ""
    },
    "id": "XLhUdobfz_Pe"
   },
   "outputs": [],
   "source": [
    "npa = dm.import_notebook(\"npanalytics\")"
   ]
  },
  {
   "cell_type": "code",
   "execution_count": 0,
   "metadata": {
    "application/vnd.databricks.v1+cell": {
     "cellMetadata": {
      "byteLimit": 2048000,
      "rowLimit": 10000
     },
     "inputWidgets": {},
     "nuid": "0c712189-0e40-401e-951c-65e74a901671",
     "showTitle": false,
     "title": ""
    }
   },
   "outputs": [],
   "source": [
    "npa.monthly_rulings()"
   ]
  }
 ],
 "metadata": {
  "application/vnd.databricks.v1+notebook": {
   "dashboards": [],
   "language": "python",
   "notebookMetadata": {
    "pythonIndentUnit": 4
   },
   "notebookName": "Extract",
   "widgets": {}
  },
  "colab": {
   "authorship_tag": "ABX9TyOG5JHOc54fqh4XnFyEE1Go",
   "include_colab_link": true,
   "provenance": []
  },
  "kernelspec": {
   "display_name": "Python 3",
   "name": "python3"
  },
  "language_info": {
   "name": "python"
  }
 },
 "nbformat": 4,
 "nbformat_minor": 0
}
